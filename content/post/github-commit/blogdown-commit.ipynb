{
 "cells": [
  {
   "cell_type": "markdown",
   "metadata": {},
   "source": [
    "## Install `PyGithub` and `textgenrnn`\n",
    "[Install PyGithub](https://github.com/PyGithub/PyGithub) using `pip install PyGitHub`  \n",
    "[Install textgenrnn](https://github.com/minimaxir/textgenrnn) using `pip install textgenrnn`"
   ]
  },
  {
   "cell_type": "markdown",
   "metadata": {},
   "source": [
    "## Introducing `textgenrnn`\n",
    "`textgenrnn` allows easy and straightforward process of training a text-generating neural network with a few lines of code using Keras/TensorFlow. \n",
    "![](https://github.com/minimaxir/textgenrnn/raw/master/docs/textgenrnn_console.gif)"
   ]
  },
  {
   "cell_type": "code",
   "execution_count": null,
   "metadata": {},
   "outputs": [],
   "source": [
    "import os\n",
    "from github import Github\n",
    "from textgenrnn import textgenrnn"
   ]
  },
  {
   "cell_type": "markdown",
   "metadata": {},
   "source": [
    "### Store your GitHub token\n",
    "Go to GitHub [website](https://github.com/settings/tokens) to generate your personal access tokens. Then type the following command in your Windows Shell to store it. "
   ]
  },
  {
   "cell_type": "markdown",
   "metadata": {},
   "source": [
    "```bash\n",
    "set GITHUB_KEY = xxxxxxxxxxxxxxxxxxxxxx\n",
    "```"
   ]
  },
  {
   "cell_type": "code",
   "execution_count": null,
   "metadata": {},
   "outputs": [],
   "source": [
    "GitHub_api = os.environ.get(\"GITHUB_KEY\")"
   ]
  },
  {
   "cell_type": "markdown",
   "metadata": {},
   "source": [
    "### Download commit messages from my personal website `zhiiiyang/zhiyang` on [GitHub](https://github.com/zhiiiyang/zhiyang)"
   ]
  },
  {
   "cell_type": "code",
   "execution_count": 11,
   "metadata": {},
   "outputs": [],
   "source": [
    "g = Github(GitHub_api)\n",
    "repo = g.get_repo(\"zhiiiyang/zhiyang\")\n",
    "commits = repo.get_commits()\n",
    "messages = []\n",
    "for i in commits:\n",
    "    messages.append(i.commit.message)"
   ]
  },
  {
   "cell_type": "markdown",
   "metadata": {},
   "source": [
    "## Save it to a text file"
   ]
  },
  {
   "cell_type": "code",
   "execution_count": 12,
   "metadata": {},
   "outputs": [],
   "source": [
    "with open('commits.txt', 'w') as f:\n",
    "    for message in messages:\n",
    "        f.write(\"%s\\n\" % message)"
   ]
  },
  {
   "cell_type": "markdown",
   "metadata": {},
   "source": [
    "## Read it into `textgenrnn`"
   ]
  },
  {
   "cell_type": "code",
   "execution_count": 13,
   "metadata": {
    "scrolled": true
   },
   "outputs": [
    {
     "name": "stdout",
     "output_type": "stream",
     "text": [
      "All of the story of relationships who says \"New All Trump Control Complete Man Works\n",
      "\n"
     ]
    }
   ],
   "source": [
    "textgen = textgenrnn()\n",
    "textgen.generate()"
   ]
  },
  {
   "cell_type": "markdown",
   "metadata": {},
   "source": [
    "## Train a model\n"
   ]
  },
  {
   "cell_type": "code",
   "execution_count": 14,
   "metadata": {},
   "outputs": [
    {
     "name": "stdout",
     "output_type": "stream",
     "text": [
      "135 texts collected.\n",
      "Training on 2,248 character sequences.\n",
      "Epoch 1/3\n",
      "17/17 [==============================] - ETA: 18s - loss: 2.18 - ETA: 9s - loss: 2.3687 - ETA: 6s - loss: 2.428 - ETA: 5s - loss: 2.378 - ETA: 4s - loss: 2.279 - ETA: 3s - loss: 2.251 - ETA: 2s - loss: 2.198 - ETA: 2s - loss: 2.149 - ETA: 2s - loss: 2.151 - ETA: 1s - loss: 2.135 - ETA: 1s - loss: 2.091 - ETA: 1s - loss: 2.029 - ETA: 0s - loss: 2.000 - ETA: 0s - loss: 1.979 - ETA: 0s - loss: 1.949 - ETA: 0s - loss: 1.922 - 3s 200ms/step - loss: 1.8895\n",
      "####################\n",
      "Temperature: 0.2\n",
      "####################\n",
      "add the  in the image\n",
      "\n",
      "add the  in the sizes\n",
      "\n",
      "add the  in the site to the size\n",
      "\n",
      "####################\n",
      "Temperature: 0.5\n",
      "####################\n",
      "change the site of the sizes\n",
      "\n",
      "add the  in sizes\n",
      "\n",
      "add hail\n",
      "\n",
      "####################\n",
      "Temperature: 1.0\n",
      "####################\n",
      "change the sites\n",
      "\n",
      "fil a talk\n",
      "\n",
      "tag doo ssight\n",
      "\n",
      "Epoch 2/3\n",
      "17/17 [==============================] - ETA: 1s - loss: 1.077 - ETA: 1s - loss: 1.079 - ETA: 1s - loss: 1.152 - ETA: 1s - loss: 1.151 - ETA: 1s - loss: 1.096 - ETA: 1s - loss: 1.120 - ETA: 1s - loss: 1.095 - ETA: 1s - loss: 1.087 - ETA: 1s - loss: 1.102 - ETA: 0s - loss: 1.098 - ETA: 0s - loss: 1.080 - ETA: 0s - loss: 1.071 - ETA: 0s - loss: 1.069 - ETA: 0s - loss: 1.058 - ETA: 0s - loss: 1.065 - ETA: 0s - loss: 1.074 - 2s 129ms/step - loss: 1.0706\n",
      "####################\n",
      "Temperature: 0.2\n",
      "####################\n",
      "add a new post\n",
      "\n",
      "add a new post\n",
      "\n",
      "add a new post\n",
      "\n",
      "####################\n",
      "Temperature: 0.5\n",
      "####################\n",
      "post talks\n",
      "\n",
      "add my fix analy\n",
      "\n",
      "change the talk\n",
      "\n",
      "####################\n",
      "Temperature: 1.0\n",
      "####################\n",
      "change the finish\n",
      "\n",
      "add Sepost\n",
      "\n",
      "adjust salilogy\n",
      "\n",
      "Epoch 3/3\n",
      "17/17 [==============================] - ETA: 1s - loss: 0.730 - ETA: 1s - loss: 0.844 - ETA: 1s - loss: 0.762 - ETA: 1s - loss: 0.749 - ETA: 1s - loss: 0.745 - ETA: 1s - loss: 0.781 - ETA: 1s - loss: 0.773 - ETA: 1s - loss: 0.790 - ETA: 1s - loss: 0.776 - ETA: 0s - loss: 0.800 - ETA: 0s - loss: 0.809 - ETA: 0s - loss: 0.804 - ETA: 0s - loss: 0.797 - ETA: 0s - loss: 0.795 - ETA: 0s - loss: 0.806 - ETA: 0s - loss: 0.813 - 2s 129ms/step - loss: 0.8175\n",
      "####################\n",
      "Temperature: 0.2\n",
      "####################\n",
      "add a talk\n",
      "\n",
      "add a new post\n",
      "\n",
      "add a new post\n",
      "\n",
      "####################\n",
      "Temperature: 0.5\n",
      "####################\n",
      "change the talk\n",
      "\n",
      "add a new post\n",
      "\n",
      "add a new post\n",
      "\n",
      "####################\n",
      "Temperature: 1.0\n",
      "####################\n",
      "drag\n",
      "\n",
      "Mika font now slides finish shang haim\n",
      "\n",
      "change the laymor post\n",
      "\n"
     ]
    }
   ],
   "source": [
    "textgen.train_from_file(\"commits.txt\", num_epochs=3)"
   ]
  },
  {
   "cell_type": "markdown",
   "metadata": {},
   "source": [
    "## Predict the safest commit message\n",
    "`Temperature` parameter controls how conservative or risky the model's guess is going to be. The higher the value is, the riskier the prediction is. "
   ]
  },
  {
   "cell_type": "code",
   "execution_count": 15,
   "metadata": {},
   "outputs": [
    {
     "name": "stderr",
     "output_type": "stream",
     "text": [
      "100%|██████████████████████████████████████████████████████████████████████████████████| 10/10 [00:00<00:00, 11.02it/s]\n"
     ]
    },
    {
     "data": {
      "text/plain": [
       "['add a new post',\n",
       " 'add a new post',\n",
       " 'add a new post',\n",
       " 'add a new post',\n",
       " 'add a new post',\n",
       " 'add a new post',\n",
       " 'add a new post',\n",
       " 'add a new post',\n",
       " 'add a new post',\n",
       " 'add a new post']"
      ]
     },
     "execution_count": 15,
     "metadata": {},
     "output_type": "execute_result"
    }
   ],
   "source": [
    "textgen.generate(10, return_as_list=True, temperature=0)"
   ]
  },
  {
   "cell_type": "markdown",
   "metadata": {},
   "source": [
    "## Predict the riskies commit message"
   ]
  },
  {
   "cell_type": "code",
   "execution_count": 17,
   "metadata": {},
   "outputs": [
    {
     "name": "stderr",
     "output_type": "stream",
     "text": [
      "100%|██████████████████████████████████████████████████████████████████████████████████| 10/10 [00:00<00:00,  8.84it/s]\n"
     ]
    },
    {
     "data": {
      "text/plain": [
       "['change the change the deniik for color',\n",
       " 'a smooj of tags',\n",
       " 'change the post',\n",
       " 'adjust cast',\n",
       " 'add slides',\n",
       " 'adidal strouther',\n",
       " 'add a talk',\n",
       " 'adjust playe font',\n",
       " 'add the gobour',\n",
       " 'delete the iam']"
      ]
     },
     "execution_count": 17,
     "metadata": {},
     "output_type": "execute_result"
    }
   ],
   "source": [
    "textgen.generate(10, return_as_list=True, temperature=1)"
   ]
  }
 ],
 "metadata": {
  "kernelspec": {
   "display_name": "Python 3",
   "language": "python",
   "name": "python3"
  },
  "language_info": {
   "codemirror_mode": {
    "name": "ipython",
    "version": 3
   },
   "file_extension": ".py",
   "mimetype": "text/x-python",
   "name": "python",
   "nbconvert_exporter": "python",
   "pygments_lexer": "ipython3",
   "version": "3.7.1"
  }
 },
 "nbformat": 4,
 "nbformat_minor": 2
}
